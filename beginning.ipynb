{
 "cells": [
  {
   "attachments": {},
   "cell_type": "markdown",
   "metadata": {},
   "source": [
    "1. Odu = 4.50 min\n",
    "2. maghrib namaz = 7 min\n",
    "3. ready to seat in table = 3.30 min\n",
    "4. Talking with Shaon = 15 min\n",
    "5. nasta = 4.25 min"
   ]
  },
  {
   "attachments": {},
   "cell_type": "markdown",
   "metadata": {},
   "source": [
    "Task 1. record the timer in python"
   ]
  },
  {
   "attachments": {},
   "cell_type": "markdown",
   "metadata": {},
   "source": [
    "procedure\n",
    "1. Using chat gpt4 7.33 =7.37\n",
    "= 4 mins\n",
    "2. deploying the code in my code= stopwatch()\n",
    "7.37 -> 7.43= 6 mins "
   ]
  },
  {
   "cell_type": "code",
   "execution_count": 2,
   "metadata": {},
   "outputs": [
    {
     "name": "stdout",
     "output_type": "stream",
     "text": [
      "Elapsed time: 00:02.423\n"
     ]
    }
   ],
   "source": [
    "import time\n",
    "\n",
    "def stopwatch():\n",
    "    start_time = time.time()\n",
    "    input(\"Press Enter to stop the stopwatch...\")\n",
    "    end_time = time.time()\n",
    "    elapsed_time = end_time - start_time\n",
    "    \n",
    "    minutes = int(elapsed_time // 60)\n",
    "    seconds = int(elapsed_time % 60)\n",
    "    milliseconds = int((elapsed_time - int(elapsed_time)) * 1000)\n",
    "    \n",
    "    print(f\"Elapsed time: {minutes:02d}:{seconds:02d}.{milliseconds:03d}\")\n",
    "\n",
    "stopwatch()\n"
   ]
  },
  {
   "cell_type": "code",
   "execution_count": 3,
   "metadata": {},
   "outputs": [
    {
     "name": "stdout",
     "output_type": "stream",
     "text": [
      "Elapsed time: 00:02.668\n"
     ]
    }
   ],
   "source": [
    "#2. deploying the code in my code= stopwatch()#\n",
    "deploy_time = stopwatch()\n",
    "deploy_time"
   ]
  },
  {
   "cell_type": "code",
   "execution_count": 4,
   "metadata": {},
   "outputs": [
    {
     "name": "stdout",
     "output_type": "stream",
     "text": [
      "Elapsed time: 25:50.401\n"
     ]
    }
   ],
   "source": [
    "#deploy in a real life scenario#\n",
    "#watering, cigg, walking\n",
    "wcw = stopwatch()\n",
    "wcw"
   ]
  },
  {
   "cell_type": "code",
   "execution_count": 5,
   "metadata": {},
   "outputs": [
    {
     "name": "stdout",
     "output_type": "stream",
     "text": [
      "Elapsed time: 07:13.283\n"
     ]
    }
   ],
   "source": [
    "brush_odhu= stopwatch()\n",
    "brush_odhu"
   ]
  },
  {
   "cell_type": "code",
   "execution_count": 6,
   "metadata": {},
   "outputs": [
    {
     "name": "stdout",
     "output_type": "stream",
     "text": [
      "Elapsed time: 19:55.011\n"
     ]
    }
   ],
   "source": [
    "isha_namaz = stopwatch()\n",
    "isha_namaz"
   ]
  }
 ],
 "metadata": {
  "kernelspec": {
   "display_name": "Python 3",
   "language": "python",
   "name": "python3"
  },
  "language_info": {
   "codemirror_mode": {
    "name": "ipython",
    "version": 3
   },
   "file_extension": ".py",
   "mimetype": "text/x-python",
   "name": "python",
   "nbconvert_exporter": "python",
   "pygments_lexer": "ipython3",
   "version": "3.10.2"
  },
  "orig_nbformat": 4,
  "vscode": {
   "interpreter": {
    "hash": "9781c75f8ebb8db568c34abc6fa56aff5b950f24b8cfd6fe8af6829c67f4ac57"
   }
  }
 },
 "nbformat": 4,
 "nbformat_minor": 2
}
